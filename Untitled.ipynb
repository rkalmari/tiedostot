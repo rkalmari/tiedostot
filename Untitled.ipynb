{
 "cells": [
  {
   "cell_type": "code",
   "execution_count": 2,
   "metadata": {},
   "outputs": [
    {
     "data": {
      "text/plain": [
       "2"
      ]
     },
     "execution_count": 2,
     "metadata": {},
     "output_type": "execute_result"
    }
   ],
   "source": [
    "1+1\n"
   ]
  },
  {
   "cell_type": "code",
   "execution_count": 2,
   "metadata": {},
   "outputs": [],
   "source": [
    "import pandas as pd\n",
    "import numpy as np\n",
    "import matplotlib.pyplot as plt\n",
    "%matplotlib inline"
   ]
  },
  {
   "cell_type": "code",
   "execution_count": 4,
   "metadata": {},
   "outputs": [
    {
     "ename": "NameError",
     "evalue": "name 'elain' is not defined",
     "output_type": "error",
     "traceback": [
      "\u001b[0;31m---------------------------------------------------------------------------\u001b[0m",
      "\u001b[0;31mNameError\u001b[0m                                 Traceback (most recent call last)",
      "\u001b[0;32m<ipython-input-4-da097d11f50c>\u001b[0m in \u001b[0;36m<module>\u001b[0;34m()\u001b[0m\n\u001b[0;32m----> 1\u001b[0;31m \u001b[0melain\u001b[0m\u001b[0;34m.\u001b[0m\u001b[0mhead\u001b[0m\u001b[0;34m(\u001b[0m\u001b[0;34m)\u001b[0m\u001b[0;34m\u001b[0m\u001b[0m\n\u001b[0m",
      "\u001b[0;31mNameError\u001b[0m: name 'elain' is not defined"
     ]
    }
   ],
   "source": [
    "elain.head()"
   ]
  },
  {
   "cell_type": "code",
   "execution_count": null,
   "metadata": {},
   "outputs": [],
   "source": [
    "elain = pd.read_csv('testi.csv', sep='\\t', header=-1)"
   ]
  },
  {
   "cell_type": "code",
   "execution_count": null,
   "metadata": {},
   "outputs": [],
   "source": [
    "plt.scatter(elain[0],elain[1])"
   ]
  },
  {
   "cell_type": "code",
   "execution_count": 6,
   "metadata": {},
   "outputs": [],
   "source": [
    "cms = pd.read_csv('Dimuon_DoubleMu.csv')"
   ]
  },
  {
   "cell_type": "code",
   "execution_count": 7,
   "metadata": {},
   "outputs": [
    {
     "data": {
      "text/html": [
       "<div>\n",
       "<style scoped>\n",
       "    .dataframe tbody tr th:only-of-type {\n",
       "        vertical-align: middle;\n",
       "    }\n",
       "\n",
       "    .dataframe tbody tr th {\n",
       "        vertical-align: top;\n",
       "    }\n",
       "\n",
       "    .dataframe thead th {\n",
       "        text-align: right;\n",
       "    }\n",
       "</style>\n",
       "<table border=\"1\" class=\"dataframe\">\n",
       "  <thead>\n",
       "    <tr style=\"text-align: right;\">\n",
       "      <th></th>\n",
       "      <th>Run</th>\n",
       "      <th>Event</th>\n",
       "      <th>type1</th>\n",
       "      <th>E1</th>\n",
       "      <th>px1</th>\n",
       "      <th>py1</th>\n",
       "      <th>pz1</th>\n",
       "      <th>pt1</th>\n",
       "      <th>eta1</th>\n",
       "      <th>phi1</th>\n",
       "      <th>...</th>\n",
       "      <th>type2</th>\n",
       "      <th>E2</th>\n",
       "      <th>px2</th>\n",
       "      <th>py2</th>\n",
       "      <th>pz2</th>\n",
       "      <th>pt2</th>\n",
       "      <th>eta2</th>\n",
       "      <th>phi2</th>\n",
       "      <th>Q2</th>\n",
       "      <th>M</th>\n",
       "    </tr>\n",
       "  </thead>\n",
       "  <tbody>\n",
       "    <tr>\n",
       "      <th>0</th>\n",
       "      <td>165617</td>\n",
       "      <td>74601703</td>\n",
       "      <td>G</td>\n",
       "      <td>9.6987</td>\n",
       "      <td>-9.5104</td>\n",
       "      <td>0.3662</td>\n",
       "      <td>1.8633</td>\n",
       "      <td>9.5175</td>\n",
       "      <td>0.1945</td>\n",
       "      <td>3.1031</td>\n",
       "      <td>...</td>\n",
       "      <td>G</td>\n",
       "      <td>9.7633</td>\n",
       "      <td>7.3277</td>\n",
       "      <td>-1.1524</td>\n",
       "      <td>6.3473</td>\n",
       "      <td>7.4178</td>\n",
       "      <td>0.7756</td>\n",
       "      <td>-0.1560</td>\n",
       "      <td>1</td>\n",
       "      <td>17.4922</td>\n",
       "    </tr>\n",
       "    <tr>\n",
       "      <th>1</th>\n",
       "      <td>165617</td>\n",
       "      <td>75100943</td>\n",
       "      <td>G</td>\n",
       "      <td>6.2039</td>\n",
       "      <td>-4.2666</td>\n",
       "      <td>0.4565</td>\n",
       "      <td>-4.4793</td>\n",
       "      <td>4.2910</td>\n",
       "      <td>-0.9121</td>\n",
       "      <td>3.0350</td>\n",
       "      <td>...</td>\n",
       "      <td>G</td>\n",
       "      <td>9.6690</td>\n",
       "      <td>7.2740</td>\n",
       "      <td>-2.8211</td>\n",
       "      <td>-5.7104</td>\n",
       "      <td>7.8019</td>\n",
       "      <td>-0.6786</td>\n",
       "      <td>-0.3700</td>\n",
       "      <td>1</td>\n",
       "      <td>11.5534</td>\n",
       "    </tr>\n",
       "    <tr>\n",
       "      <th>2</th>\n",
       "      <td>165617</td>\n",
       "      <td>75587682</td>\n",
       "      <td>G</td>\n",
       "      <td>19.2892</td>\n",
       "      <td>-4.2121</td>\n",
       "      <td>-0.6516</td>\n",
       "      <td>18.8121</td>\n",
       "      <td>4.2622</td>\n",
       "      <td>2.1905</td>\n",
       "      <td>-2.9881</td>\n",
       "      <td>...</td>\n",
       "      <td>G</td>\n",
       "      <td>9.8244</td>\n",
       "      <td>4.3439</td>\n",
       "      <td>-0.4735</td>\n",
       "      <td>8.7985</td>\n",
       "      <td>4.3697</td>\n",
       "      <td>1.4497</td>\n",
       "      <td>-0.1086</td>\n",
       "      <td>1</td>\n",
       "      <td>9.1636</td>\n",
       "    </tr>\n",
       "    <tr>\n",
       "      <th>3</th>\n",
       "      <td>165617</td>\n",
       "      <td>75660978</td>\n",
       "      <td>G</td>\n",
       "      <td>7.0427</td>\n",
       "      <td>-6.3268</td>\n",
       "      <td>-0.2685</td>\n",
       "      <td>3.0802</td>\n",
       "      <td>6.3325</td>\n",
       "      <td>0.4690</td>\n",
       "      <td>-3.0992</td>\n",
       "      <td>...</td>\n",
       "      <td>G</td>\n",
       "      <td>5.5857</td>\n",
       "      <td>4.4748</td>\n",
       "      <td>0.8489</td>\n",
       "      <td>-3.2319</td>\n",
       "      <td>4.5546</td>\n",
       "      <td>-0.6605</td>\n",
       "      <td>0.1875</td>\n",
       "      <td>1</td>\n",
       "      <td>12.4774</td>\n",
       "    </tr>\n",
       "    <tr>\n",
       "      <th>4</th>\n",
       "      <td>165617</td>\n",
       "      <td>75947690</td>\n",
       "      <td>G</td>\n",
       "      <td>7.2751</td>\n",
       "      <td>0.1030</td>\n",
       "      <td>-5.5331</td>\n",
       "      <td>-4.7212</td>\n",
       "      <td>5.5340</td>\n",
       "      <td>-0.7736</td>\n",
       "      <td>-1.5522</td>\n",
       "      <td>...</td>\n",
       "      <td>G</td>\n",
       "      <td>7.3181</td>\n",
       "      <td>-0.3988</td>\n",
       "      <td>6.9408</td>\n",
       "      <td>2.2825</td>\n",
       "      <td>6.9523</td>\n",
       "      <td>0.3227</td>\n",
       "      <td>1.6282</td>\n",
       "      <td>1</td>\n",
       "      <td>14.3159</td>\n",
       "    </tr>\n",
       "  </tbody>\n",
       "</table>\n",
       "<p>5 rows × 21 columns</p>\n",
       "</div>"
      ],
      "text/plain": [
       "      Run     Event type1       E1     px1     py1      pz1     pt1    eta1  \\\n",
       "0  165617  74601703     G   9.6987 -9.5104  0.3662   1.8633  9.5175  0.1945   \n",
       "1  165617  75100943     G   6.2039 -4.2666  0.4565  -4.4793  4.2910 -0.9121   \n",
       "2  165617  75587682     G  19.2892 -4.2121 -0.6516  18.8121  4.2622  2.1905   \n",
       "3  165617  75660978     G   7.0427 -6.3268 -0.2685   3.0802  6.3325  0.4690   \n",
       "4  165617  75947690     G   7.2751  0.1030 -5.5331  -4.7212  5.5340 -0.7736   \n",
       "\n",
       "     phi1   ...     type2      E2     px2     py2     pz2     pt2    eta2  \\\n",
       "0  3.1031   ...         G  9.7633  7.3277 -1.1524  6.3473  7.4178  0.7756   \n",
       "1  3.0350   ...         G  9.6690  7.2740 -2.8211 -5.7104  7.8019 -0.6786   \n",
       "2 -2.9881   ...         G  9.8244  4.3439 -0.4735  8.7985  4.3697  1.4497   \n",
       "3 -3.0992   ...         G  5.5857  4.4748  0.8489 -3.2319  4.5546 -0.6605   \n",
       "4 -1.5522   ...         G  7.3181 -0.3988  6.9408  2.2825  6.9523  0.3227   \n",
       "\n",
       "     phi2  Q2        M  \n",
       "0 -0.1560   1  17.4922  \n",
       "1 -0.3700   1  11.5534  \n",
       "2 -0.1086   1   9.1636  \n",
       "3  0.1875   1  12.4774  \n",
       "4  1.6282   1  14.3159  \n",
       "\n",
       "[5 rows x 21 columns]"
      ]
     },
     "execution_count": 7,
     "metadata": {},
     "output_type": "execute_result"
    }
   ],
   "source": [
    "cms.head()"
   ]
  },
  {
   "cell_type": "code",
   "execution_count": 17,
   "metadata": {},
   "outputs": [],
   "source": [
    "inv_m = np.sqrt((2*cms.pt1*cms.pt2)*(np.cosh(cms.eta1-cms.eta2) - np.cos(cms.phi1-cms.phi2)))\n"
   ]
  },
  {
   "cell_type": "code",
   "execution_count": 18,
   "metadata": {},
   "outputs": [
    {
     "data": {
      "image/png": "[encoded data removed]",
      "text/plain": [
       "<Figure size 432x288 with 1 Axes>"
      ]
     },
     "metadata": {},
     "output_type": "display_data"
    }
   ],
   "source": [
    "plt.hist(inv_m, bins=300, range = (0,120))\n",
    "plt.show()"
   ]
  },
  {
   "cell_type": "code",
   "execution_count": 7,
   "metadata": {},
   "outputs": [],
   "source": [
    "higgs_dphot = pd.read_csv('http://opendata.cern.ch/record/300/files/diphoton.csv')"
   ]
  },
  {
   "cell_type": "code",
   "execution_count": 8,
   "metadata": {},
   "outputs": [
    {
     "data": {
      "text/html": [
       "<div>\n",
       "<style scoped>\n",
       "    .dataframe tbody tr th:only-of-type {\n",
       "        vertical-align: middle;\n",
       "    }\n",
       "\n",
       "    .dataframe tbody tr th {\n",
       "        vertical-align: top;\n",
       "    }\n",
       "\n",
       "    .dataframe thead th {\n",
       "        text-align: right;\n",
       "    }\n",
       "</style>\n",
       "<table border=\"1\" class=\"dataframe\">\n",
       "  <thead>\n",
       "    <tr style=\"text-align: right;\">\n",
       "      <th></th>\n",
       "      <th>Run</th>\n",
       "      <th>Event</th>\n",
       "      <th>pt1</th>\n",
       "      <th>eta1</th>\n",
       "      <th>phi1</th>\n",
       "      <th>pt2</th>\n",
       "      <th>eta2</th>\n",
       "      <th>phi2</th>\n",
       "      <th>M</th>\n",
       "    </tr>\n",
       "  </thead>\n",
       "  <tbody>\n",
       "    <tr>\n",
       "      <th>0</th>\n",
       "      <td>199319</td>\n",
       "      <td>641436592</td>\n",
       "      <td>77.2006</td>\n",
       "      <td>0.250438</td>\n",
       "      <td>0.605505</td>\n",
       "      <td>60.1382</td>\n",
       "      <td>0.650821</td>\n",
       "      <td>-1.53900</td>\n",
       "      <td>122.797901</td>\n",
       "    </tr>\n",
       "    <tr>\n",
       "      <th>1</th>\n",
       "      <td>199699</td>\n",
       "      <td>336259924</td>\n",
       "      <td>64.1091</td>\n",
       "      <td>0.473667</td>\n",
       "      <td>-0.815133</td>\n",
       "      <td>58.6038</td>\n",
       "      <td>0.032018</td>\n",
       "      <td>2.58568</td>\n",
       "      <td>124.586979</td>\n",
       "    </tr>\n",
       "    <tr>\n",
       "      <th>2</th>\n",
       "      <td>201602</td>\n",
       "      <td>114902683</td>\n",
       "      <td>73.7489</td>\n",
       "      <td>0.800788</td>\n",
       "      <td>0.261020</td>\n",
       "      <td>55.9369</td>\n",
       "      <td>0.698872</td>\n",
       "      <td>3.03502</td>\n",
       "      <td>126.462830</td>\n",
       "    </tr>\n",
       "    <tr>\n",
       "      <th>3</th>\n",
       "      <td>202087</td>\n",
       "      <td>923352992</td>\n",
       "      <td>102.9550</td>\n",
       "      <td>0.979959</td>\n",
       "      <td>0.148624</td>\n",
       "      <td>76.6940</td>\n",
       "      <td>0.815527</td>\n",
       "      <td>1.67359</td>\n",
       "      <td>123.622542</td>\n",
       "    </tr>\n",
       "    <tr>\n",
       "      <th>4</th>\n",
       "      <td>203894</td>\n",
       "      <td>688901524</td>\n",
       "      <td>53.4409</td>\n",
       "      <td>-0.709665</td>\n",
       "      <td>1.642300</td>\n",
       "      <td>46.4314</td>\n",
       "      <td>0.945537</td>\n",
       "      <td>-2.71670</td>\n",
       "      <td>123.203887</td>\n",
       "    </tr>\n",
       "  </tbody>\n",
       "</table>\n",
       "</div>"
      ],
      "text/plain": [
       "      Run      Event       pt1      eta1      phi1      pt2      eta2  \\\n",
       "0  199319  641436592   77.2006  0.250438  0.605505  60.1382  0.650821   \n",
       "1  199699  336259924   64.1091  0.473667 -0.815133  58.6038  0.032018   \n",
       "2  201602  114902683   73.7489  0.800788  0.261020  55.9369  0.698872   \n",
       "3  202087  923352992  102.9550  0.979959  0.148624  76.6940  0.815527   \n",
       "4  203894  688901524   53.4409 -0.709665  1.642300  46.4314  0.945537   \n",
       "\n",
       "      phi2           M  \n",
       "0 -1.53900  122.797901  \n",
       "1  2.58568  124.586979  \n",
       "2  3.03502  126.462830  \n",
       "3  1.67359  123.622542  \n",
       "4 -2.71670  123.203887  "
      ]
     },
     "execution_count": 8,
     "metadata": {},
     "output_type": "execute_result"
    }
   ],
   "source": [
    "higgs_dphot.head()"
   ]
  },
  {
   "cell_type": "code",
   "execution_count": 12,
   "metadata": {},
   "outputs": [],
   "source": [
    "inv_m = np.sqrt((2*higgs_dphot.pt1*higgs_dphot.pt2)*(np.cosh(higgs_dphot.eta1-higgs_dphot.eta2) - np.cos(higgs_dphot.phi1-higgs_dphot.phi2)))\n"
   ]
  },
  {
   "cell_type": "code",
   "execution_count": 16,
   "metadata": {},
   "outputs": [
    {
     "data": {
      "image/png": "[encoded data removed]",
      "text/plain": [
       "<Figure size 432x288 with 1 Axes>"
      ]
     },
     "metadata": {},
     "output_type": "display_data"
    }
   ],
   "source": [
    "plt.hist(inv_m,bins = 10)\n",
    "plt.show()"
   ]
  },
  {
   "cell_type": "code",
   "execution_count": null,
   "metadata": {},
   "outputs": [],
   "source": []
  }
 ],
 "metadata": {
  "kernelspec": {
   "display_name": "Python 3",
   "language": "python",
   "name": "python3"
  },
  "language_info": {
   "codemirror_mode": {
    "name": "ipython",
    "version": 3
   },
   "file_extension": ".py",
   "mimetype": "text/x-python",
   "name": "python",
   "nbconvert_exporter": "python",
   "pygments_lexer": "ipython3",
   "version": "3.6.5"
  }
 },
 "nbformat": 4,
 "nbformat_minor": 2
}
